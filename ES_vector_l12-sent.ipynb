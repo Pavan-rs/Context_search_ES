{
 "cells": [
  {
   "cell_type": "code",
   "execution_count": 1,
   "metadata": {
    "scrolled": true
   },
   "outputs": [],
   "source": [
    "import requests\n",
    "from elasticsearch import Elasticsearch\n",
    "import json\n",
    "from elasticsearch.helpers import scan\n",
    "from elasticsearch_dsl import Search,Q\n",
    "from credentials import usr_pwd"
   ]
  },
  {
   "cell_type": "code",
   "execution_count": 2,
   "metadata": {},
   "outputs": [
    {
     "name": "stderr",
     "output_type": "stream",
     "text": [
      "/home/pavan_rs/.local/lib/python3.7/site-packages/pandas/compat/_optional.py:138: UserWarning: Pandas requires version '2.7.0' or newer of 'numexpr' (version '2.6.9' currently installed).\n",
      "  warnings.warn(msg, UserWarning)\n"
     ]
    },
    {
     "name": "stdout",
     "output_type": "stream",
     "text": [
      "TF version:  2.9.1\n",
      "Hub version:  0.12.0\n"
     ]
    }
   ],
   "source": [
    "import tensorflow as tf\n",
    "import tensorflow_text as text\n",
    "import tensorflow_hub as hub\n",
    "from nltk.tokenize import sent_tokenize\n",
    "import numpy as np\n",
    "print(\"TF version: \", tf.__version__)\n",
    "print(\"Hub version: \", hub.__version__)"
   ]
  },
  {
   "cell_type": "markdown",
   "metadata": {},
   "source": [
    "### update ES document mappings with dense vectors"
   ]
  },
  {
   "cell_type": "code",
   "execution_count": 3,
   "metadata": {
    "scrolled": true
   },
   "outputs": [],
   "source": [
    "hosts = [\"10.1.8.6:9200\"]\n",
    "uname, pwd =  usr_pwd()"
   ]
  },
  {
   "cell_type": "code",
   "execution_count": 4,
   "metadata": {},
   "outputs": [],
   "source": [
    "es = Elasticsearch(hosts,\n",
    "                  timeout = 6000,\n",
    "                  use_ssl = True,\n",
    "                  verify_certs = False,\n",
    "                  ssl_show_warn = False,\n",
    "                  raise_on_error = False,\n",
    "                  http_auth = (uname,pwd)\n",
    "                  )"
   ]
  },
  {
   "cell_type": "code",
   "execution_count": 5,
   "metadata": {},
   "outputs": [
    {
     "data": {
      "text/plain": [
       "True"
      ]
     },
     "execution_count": 5,
     "metadata": {},
     "output_type": "execute_result"
    }
   ],
   "source": [
    "es.ping()"
   ]
  },
  {
   "cell_type": "code",
   "execution_count": 6,
   "metadata": {},
   "outputs": [
    {
     "data": {
      "text/plain": [
       "945973"
      ]
     },
     "execution_count": 6,
     "metadata": {},
     "output_type": "execute_result"
    }
   ],
   "source": [
    "res_cnt = es.count(index='test_cantire-2021-10', body={'query':{\"match_all\":{}} })[\"count\"]\n",
    "# res_cnt = es.count(index='test_cantire-2021-10', body=body)[\"count\"]\n",
    "res_cnt"
   ]
  },
  {
   "cell_type": "code",
   "execution_count": 7,
   "metadata": {},
   "outputs": [],
   "source": [
    "from sentence_transformers import SentenceTransformer\n",
    "model = SentenceTransformer('all-MiniLM-L12-v2')"
   ]
  },
  {
   "cell_type": "code",
   "execution_count": 8,
   "metadata": {},
   "outputs": [],
   "source": [
    "from nltk.tokenize import sent_tokenize"
   ]
  },
  {
   "cell_type": "code",
   "execution_count": 9,
   "metadata": {
    "scrolled": true
   },
   "outputs": [],
   "source": [
    "def get_elastic_results(es):\n",
    "    \n",
    "    res = es.search(index = \"test_cantire-2021-10\",body = {\n",
    "    \"size\": 500,\n",
    "    \"query\": {\n",
    "    \"bool\": {\n",
    "#     \"filter\":{\n",
    "    \"must_not\": [{\n",
    "    \"exists\": {\n",
    "    \"field\": \"doc_vectors_n\"\n",
    "    }\n",
    "    },\n",
    "#     }\n",
    "#       {\n",
    "#           \"exists\":{\n",
    "#               \"field\":\"status\"\n",
    "#           }\n",
    "#       }  \n",
    "    ],\n",
    "    \"must\": [\n",
    "    {\n",
    "    \"match_phrase\": {\n",
    "    \"fileType\": \"Message/Email File\"\n",
    "    }\n",
    "    }\n",
    "    ]\n",
    "    }\n",
    "    }\n",
    "    })\n",
    "    \n",
    "    return res"
   ]
  },
  {
   "cell_type": "code",
   "execution_count": 39,
   "metadata": {},
   "outputs": [],
   "source": [
    "# PUT /test_cantire-2021-10/_mapping\n",
    "# {\n",
    "#   \"mappings\": {\n",
    "#     \"properties\": {\n",
    "#       \"doc_vectors_n\": {\n",
    "#         \"type\": \"nested\",\n",
    "#         \"properties\": {\n",
    "#           \"vector\": {\n",
    "#             \"type\": \"dense_vector\",\n",
    "#             \"dims\": 384  \n",
    "#           }\n",
    "#         }\n",
    "#       }\n",
    "#     }\n",
    "#   }\n",
    "# }"
   ]
  },
  {
   "cell_type": "code",
   "execution_count": 10,
   "metadata": {},
   "outputs": [
    {
     "name": "stderr",
     "output_type": "stream",
     "text": [
      "/opt/anaconda3/lib/python3.7/site-packages/ipykernel_launcher.py:23: DeprecationWarning: The 'body' parameter is deprecated for the 'search' API and will be removed in a future version. Instead use API parameters directly. See https://github.com/elastic/elasticsearch-py/issues/1698 for more information\n"
     ]
    },
    {
     "name": "stdout",
     "output_type": "stream",
     "text": [
      "500\n"
     ]
    }
   ],
   "source": [
    "g = get_elastic_results(es)\n",
    "# g[\"hits\"][\"hits\"][0]\n",
    "print(len(g[\"hits\"][\"hits\"]))"
   ]
  },
  {
   "cell_type": "code",
   "execution_count": 12,
   "metadata": {},
   "outputs": [],
   "source": [
    "# print(g[\"hits\"][\"hits\"][4][\"_source\"][\"content\"])"
   ]
  },
  {
   "cell_type": "code",
   "execution_count": 11,
   "metadata": {},
   "outputs": [],
   "source": [
    "from tqdm import tqdm\n",
    "def update_es_vector(es, es_res):\n",
    "    all_documents = es_res['hits']['hits']\n",
    "    print(len(all_documents))\n",
    "    if len(all_documents) > 0:\n",
    "        for doc in tqdm(all_documents):\n",
    "            sent_embedding = []\n",
    "            email_content = doc['_source']['content']\n",
    "            email_content = email_content.split('From')[0].split('__')[0]\n",
    "            if email_content != None:\n",
    "                email_content = (' '.join(''.join(email_content.split('\\n')).split('\\r')).lower())\n",
    "                email_content = ' '.join(email_content.split('\\t'))\n",
    "                doc_id = doc['_id']\n",
    "                _docum_ = \"https://search.discoverdollar.com:9200/test_cantire-2021-10/\"+ doc_id\n",
    "                sent_lis = sent_tokenize(email_content)\n",
    "                for i in sent_lis:\n",
    "                    sent_embedding.append((np.array(list(model.encode([i]).flatten()))).tolist())\n",
    "                doc_vecs_1 = [{'vector' : emb} for emb in sent_embedding]\n",
    "\n",
    "                try:\n",
    "                    es.update(index = 'test_cantire-2021-10', doc_type = \"_doc\", id=doc_id, body={\"doc\":{\"doc_vectors_n\":doc_vecs_1}})\n",
    "                    es.update(index = 'test_cantire-2021-10', doc_type = \"_doc\", id=doc_id, body={\"doc\":{\"status\":\"yes\"}})\n",
    "                except:\n",
    "                    print(\"an exception occurred\")"
   ]
  },
  {
   "cell_type": "code",
   "execution_count": 12,
   "metadata": {},
   "outputs": [],
   "source": [
    "# es_res = get_elastic_results(es)\n",
    "# update_es_vector(es, es_res)"
   ]
  },
  {
   "cell_type": "code",
   "execution_count": 13,
   "metadata": {},
   "outputs": [
    {
     "data": {
      "text/plain": [
       "945"
      ]
     },
     "execution_count": 13,
     "metadata": {},
     "output_type": "execute_result"
    }
   ],
   "source": [
    "cnt = res_cnt//1000\n",
    "cnt"
   ]
  },
  {
   "cell_type": "code",
   "execution_count": null,
   "metadata": {
    "scrolled": true
   },
   "outputs": [
    {
     "name": "stderr",
     "output_type": "stream",
     "text": [
      "/opt/anaconda3/lib/python3.7/site-packages/ipykernel_launcher.py:23: DeprecationWarning: The 'body' parameter is deprecated for the 'search' API and will be removed in a future version. Instead use API parameters directly. See https://github.com/elastic/elasticsearch-py/issues/1698 for more information\n",
      "  0%|          | 0/500 [00:00<?, ?it/s]"
     ]
    },
    {
     "name": "stdout",
     "output_type": "stream",
     "text": [
      "500\n"
     ]
    },
    {
     "name": "stderr",
     "output_type": "stream",
     "text": [
      "/opt/anaconda3/lib/python3.7/site-packages/ipykernel_launcher.py:21: DeprecationWarning: The 'body' parameter is deprecated for the 'update' API and will be removed in a future version. Instead use API parameters directly. See https://github.com/elastic/elasticsearch-py/issues/1698 for more information\n",
      "/opt/anaconda3/lib/python3.7/site-packages/ipykernel_launcher.py:22: DeprecationWarning: The 'body' parameter is deprecated for the 'update' API and will be removed in a future version. Instead use API parameters directly. See https://github.com/elastic/elasticsearch-py/issues/1698 for more information\n",
      "100%|██████████| 500/500 [04:38<00:00,  1.80it/s]\n"
     ]
    },
    {
     "name": "stdout",
     "output_type": "stream",
     "text": [
      "1\n"
     ]
    },
    {
     "name": "stderr",
     "output_type": "stream",
     "text": [
      "  0%|          | 0/500 [00:00<?, ?it/s]"
     ]
    },
    {
     "name": "stdout",
     "output_type": "stream",
     "text": [
      "500\n"
     ]
    },
    {
     "name": "stderr",
     "output_type": "stream",
     "text": [
      "100%|██████████| 500/500 [04:41<00:00,  1.78it/s]\n"
     ]
    },
    {
     "name": "stdout",
     "output_type": "stream",
     "text": [
      "2\n"
     ]
    },
    {
     "name": "stderr",
     "output_type": "stream",
     "text": [
      "  0%|          | 0/500 [00:00<?, ?it/s]"
     ]
    },
    {
     "name": "stdout",
     "output_type": "stream",
     "text": [
      "500\n"
     ]
    },
    {
     "name": "stderr",
     "output_type": "stream",
     "text": [
      "100%|██████████| 500/500 [04:46<00:00,  1.75it/s]\n"
     ]
    },
    {
     "name": "stdout",
     "output_type": "stream",
     "text": [
      "3\n"
     ]
    },
    {
     "name": "stderr",
     "output_type": "stream",
     "text": [
      "  0%|          | 0/500 [00:00<?, ?it/s]"
     ]
    },
    {
     "name": "stdout",
     "output_type": "stream",
     "text": [
      "500\n"
     ]
    },
    {
     "name": "stderr",
     "output_type": "stream",
     "text": [
      "100%|██████████| 500/500 [04:44<00:00,  1.76it/s]\n"
     ]
    },
    {
     "name": "stdout",
     "output_type": "stream",
     "text": [
      "4\n"
     ]
    },
    {
     "name": "stderr",
     "output_type": "stream",
     "text": [
      "  0%|          | 0/500 [00:00<?, ?it/s]"
     ]
    },
    {
     "name": "stdout",
     "output_type": "stream",
     "text": [
      "500\n"
     ]
    },
    {
     "name": "stderr",
     "output_type": "stream",
     "text": [
      "100%|██████████| 500/500 [04:38<00:00,  1.80it/s]\n"
     ]
    },
    {
     "name": "stdout",
     "output_type": "stream",
     "text": [
      "5\n"
     ]
    },
    {
     "name": "stderr",
     "output_type": "stream",
     "text": [
      "  0%|          | 0/500 [00:00<?, ?it/s]"
     ]
    },
    {
     "name": "stdout",
     "output_type": "stream",
     "text": [
      "500\n"
     ]
    },
    {
     "name": "stderr",
     "output_type": "stream",
     "text": [
      "100%|██████████| 500/500 [04:37<00:00,  1.80it/s]\n"
     ]
    },
    {
     "name": "stdout",
     "output_type": "stream",
     "text": [
      "6\n"
     ]
    },
    {
     "name": "stderr",
     "output_type": "stream",
     "text": [
      "  0%|          | 0/500 [00:00<?, ?it/s]"
     ]
    },
    {
     "name": "stdout",
     "output_type": "stream",
     "text": [
      "500\n"
     ]
    },
    {
     "name": "stderr",
     "output_type": "stream",
     "text": [
      "100%|██████████| 500/500 [04:39<00:00,  1.79it/s]\n"
     ]
    },
    {
     "name": "stdout",
     "output_type": "stream",
     "text": [
      "7\n"
     ]
    },
    {
     "name": "stderr",
     "output_type": "stream",
     "text": [
      "  0%|          | 0/500 [00:00<?, ?it/s]"
     ]
    },
    {
     "name": "stdout",
     "output_type": "stream",
     "text": [
      "500\n"
     ]
    },
    {
     "name": "stderr",
     "output_type": "stream",
     "text": [
      "100%|██████████| 500/500 [04:36<00:00,  1.81it/s]\n"
     ]
    },
    {
     "name": "stdout",
     "output_type": "stream",
     "text": [
      "8\n"
     ]
    },
    {
     "name": "stderr",
     "output_type": "stream",
     "text": [
      "  0%|          | 0/500 [00:00<?, ?it/s]"
     ]
    },
    {
     "name": "stdout",
     "output_type": "stream",
     "text": [
      "500\n"
     ]
    },
    {
     "name": "stderr",
     "output_type": "stream",
     "text": [
      "100%|██████████| 500/500 [04:39<00:00,  1.79it/s]\n"
     ]
    },
    {
     "name": "stdout",
     "output_type": "stream",
     "text": [
      "9\n"
     ]
    },
    {
     "name": "stderr",
     "output_type": "stream",
     "text": [
      "  0%|          | 0/500 [00:00<?, ?it/s]"
     ]
    },
    {
     "name": "stdout",
     "output_type": "stream",
     "text": [
      "500\n"
     ]
    },
    {
     "name": "stderr",
     "output_type": "stream",
     "text": [
      "100%|██████████| 500/500 [04:47<00:00,  1.74it/s]\n"
     ]
    },
    {
     "name": "stdout",
     "output_type": "stream",
     "text": [
      "10\n"
     ]
    },
    {
     "name": "stderr",
     "output_type": "stream",
     "text": [
      "  0%|          | 0/500 [00:00<?, ?it/s]"
     ]
    },
    {
     "name": "stdout",
     "output_type": "stream",
     "text": [
      "500\n"
     ]
    },
    {
     "name": "stderr",
     "output_type": "stream",
     "text": [
      "100%|██████████| 500/500 [04:46<00:00,  1.74it/s]\n"
     ]
    },
    {
     "name": "stdout",
     "output_type": "stream",
     "text": [
      "11\n"
     ]
    },
    {
     "name": "stderr",
     "output_type": "stream",
     "text": [
      "  0%|          | 0/500 [00:00<?, ?it/s]"
     ]
    },
    {
     "name": "stdout",
     "output_type": "stream",
     "text": [
      "500\n"
     ]
    },
    {
     "name": "stderr",
     "output_type": "stream",
     "text": [
      "100%|██████████| 500/500 [04:44<00:00,  1.75it/s]\n"
     ]
    },
    {
     "name": "stdout",
     "output_type": "stream",
     "text": [
      "12\n"
     ]
    },
    {
     "name": "stderr",
     "output_type": "stream",
     "text": [
      "  0%|          | 0/500 [00:00<?, ?it/s]"
     ]
    },
    {
     "name": "stdout",
     "output_type": "stream",
     "text": [
      "500\n"
     ]
    },
    {
     "name": "stderr",
     "output_type": "stream",
     "text": [
      "100%|██████████| 500/500 [04:45<00:00,  1.75it/s]\n"
     ]
    },
    {
     "name": "stdout",
     "output_type": "stream",
     "text": [
      "13\n"
     ]
    },
    {
     "name": "stderr",
     "output_type": "stream",
     "text": [
      "  0%|          | 0/500 [00:00<?, ?it/s]"
     ]
    },
    {
     "name": "stdout",
     "output_type": "stream",
     "text": [
      "500\n"
     ]
    },
    {
     "name": "stderr",
     "output_type": "stream",
     "text": [
      " 23%|██▎       | 113/500 [01:03<03:27,  1.87it/s]"
     ]
    }
   ],
   "source": [
    "i=0\n",
    "for i in range(50):\n",
    "    i+=1\n",
    "    es_res = get_elastic_results(es)\n",
    "    if len(es_res[\"hits\"][\"hits\"]) > 0:\n",
    "        update_es_vector(es, es_res)\n",
    "    else:\n",
    "        break\n",
    "    print(i)"
   ]
  },
  {
   "cell_type": "code",
   "execution_count": null,
   "metadata": {},
   "outputs": [],
   "source": []
  },
  {
   "cell_type": "code",
   "execution_count": null,
   "metadata": {},
   "outputs": [],
   "source": []
  },
  {
   "cell_type": "code",
   "execution_count": null,
   "metadata": {},
   "outputs": [],
   "source": []
  },
  {
   "cell_type": "code",
   "execution_count": null,
   "metadata": {},
   "outputs": [],
   "source": []
  },
  {
   "cell_type": "code",
   "execution_count": null,
   "metadata": {},
   "outputs": [],
   "source": []
  },
  {
   "cell_type": "code",
   "execution_count": null,
   "metadata": {},
   "outputs": [],
   "source": []
  },
  {
   "cell_type": "code",
   "execution_count": null,
   "metadata": {},
   "outputs": [],
   "source": []
  },
  {
   "cell_type": "code",
   "execution_count": 14,
   "metadata": {},
   "outputs": [
    {
     "name": "stderr",
     "output_type": "stream",
     "text": [
      "/opt/anaconda3/lib/python3.7/site-packages/ipykernel_launcher.py:13: DeprecationWarning: The 'body' parameter is deprecated for the 'search' API and will be removed in a future version. Instead use API parameters directly. See https://github.com/elastic/elasticsearch-py/issues/1698 for more information\n",
      "  del sys.path[0]\n"
     ]
    },
    {
     "name": "stdout",
     "output_type": "stream",
     "text": [
      "10\n"
     ]
    }
   ],
   "source": [
    "body = {\n",
    "    \"query\":{\n",
    "        \"bool\":{\n",
    "            \"filter\":{\n",
    "                \"exists\":{\n",
    "                    \"field\":\"status\"\n",
    "                }\n",
    "            },\n",
    "            \"must\":[{\"match_phrase_prefix\":{\"fileType\":\"Email\"}},{\"match_phrase\":{\"status\":\"yes\"}}]\n",
    "        }\n",
    "    }\n",
    "}\n",
    "result = es.search(index = \"test_cantire-2021-10\",body=body)\n",
    "print(len(result[\"hits\"][\"hits\"]))"
   ]
  },
  {
   "cell_type": "code",
   "execution_count": 15,
   "metadata": {},
   "outputs": [
    {
     "data": {
      "text/plain": [
       "72837"
      ]
     },
     "execution_count": 15,
     "metadata": {},
     "output_type": "execute_result"
    }
   ],
   "source": [
    "es.count(index='test_cantire-2021-10', body=body)[\"count\"]"
   ]
  },
  {
   "cell_type": "code",
   "execution_count": 17,
   "metadata": {},
   "outputs": [
    {
     "data": {
      "text/plain": [
       "5"
      ]
     },
     "execution_count": 17,
     "metadata": {},
     "output_type": "execute_result"
    }
   ],
   "source": [
    "len(result[\"hits\"][\"hits\"][0][\"_source\"][\"doc_vectors_n\"])\n",
    "# result[\"hits\"][\"hits\"][30][\"_source\"]\n",
    "# result[\"hits\"][\"hits\"][0][\"_source\"][\"doc_vectors2\"]"
   ]
  },
  {
   "cell_type": "markdown",
   "metadata": {},
   "source": [
    "### Build API to call queries"
   ]
  },
  {
   "cell_type": "code",
   "execution_count": 18,
   "metadata": {},
   "outputs": [],
   "source": [
    "import numpy as np"
   ]
  },
  {
   "cell_type": "code",
   "execution_count": 19,
   "metadata": {
    "scrolled": true
   },
   "outputs": [
    {
     "data": {
      "text/plain": [
       "384"
      ]
     },
     "execution_count": 19,
     "metadata": {},
     "output_type": "execute_result"
    }
   ],
   "source": [
    "query = ['sku cost update']\n",
    "query_vec = model.encode(query)\n",
    "query_vect = np.array(list(query_vec.flatten()))\n",
    "query_vector = query_vect.tolist()\n",
    "len(query_vector)"
   ]
  },
  {
   "cell_type": "code",
   "execution_count": 50,
   "metadata": {},
   "outputs": [],
   "source": [
    "# s_body = {\n",
    "#     \"query\":{\n",
    "#         \"score_mode\":\"max\",\n",
    "#         \"script_score\": {\n",
    "#             \"query\": {\n",
    "#                 \"bool\":{\n",
    "#                     \"filter\":{\n",
    "#                         \"exists\":{\n",
    "#                             \"field\":\"marked1\"\n",
    "#                         }\n",
    "#                     }\n",
    "#                 }\n",
    "#             },\n",
    "#             \"script\": {\n",
    "#                 \"source\": \"cosineSimilarity(params.query_vector, 'doc_vectors5.vector') + 1.0\",\n",
    "#                 \"params\": {\"query_vector\": query_vector}\n",
    "#                 }\n",
    "#             }\n",
    "#         }\n",
    "#     }"
   ]
  },
  {
   "cell_type": "code",
   "execution_count": 20,
   "metadata": {},
   "outputs": [],
   "source": [
    "s_body = {\n",
    "  \"min_score\":1.5,\n",
    "  \"query\": {\n",
    "    \"nested\": {\n",
    "      \"path\": \"doc_vectors_n\",\n",
    "        \"score_mode\": \"max\", \n",
    "      \"query\": {\n",
    "          \"function_score\": {\n",
    "              \"script_score\": {\n",
    "                  \"script\": {\n",
    "                      \"source\": \"(1.0+cosineSimilarity(params.query_vector, 'doc_vectors_n.vector'))\",\n",
    "                      \"params\": {\"query_vector\": query_vector}\n",
    "                      }\n",
    "                  }\n",
    "              }\n",
    "          }\n",
    "        }\n",
    "      }\n",
    "    }"
   ]
  },
  {
   "cell_type": "code",
   "execution_count": 33,
   "metadata": {},
   "outputs": [],
   "source": [
    "# result_vectors = es.search(index=\"test_cantire-2021-10\", body=s_body, size=100)"
   ]
  },
  {
   "cell_type": "code",
   "execution_count": 34,
   "metadata": {},
   "outputs": [],
   "source": [
    "# result_vectors[\"hits\"][\"hits\"][0]"
   ]
  },
  {
   "cell_type": "code",
   "execution_count": 21,
   "metadata": {},
   "outputs": [
    {
     "name": "stderr",
     "output_type": "stream",
     "text": [
      "/opt/anaconda3/lib/python3.7/site-packages/ipykernel_launcher.py:1: DeprecationWarning: The 'body' parameter is deprecated for the 'search' API and will be removed in a future version. Instead use API parameters directly. See https://github.com/elastic/elasticsearch-py/issues/1698 for more information\n",
      "  \"\"\"Entry point for launching an IPython kernel.\n"
     ]
    }
   ],
   "source": [
    "vec_res = es.search(index=\"test_cantire-2021-10\",body=s_body,size=1000)\n",
    "def clean_mail(mail_):\n",
    "    email_content = mail_['_source']['content']\n",
    "\n",
    "    email_content = email_content.split('From')[0].split('__')[0]\n",
    "    if not (email_content or email_content == None):\n",
    "\n",
    "        email_content = (' '.join(''.join(email_content.split('\\n')).split('\\r')).lower())\n",
    "        email_content = ' '.join(email_content.split('\\t'))\n",
    "        \n",
    "    return email_content"
   ]
  },
  {
   "cell_type": "code",
   "execution_count": 22,
   "metadata": {},
   "outputs": [
    {
     "data": {
      "text/plain": [
       "233"
      ]
     },
     "execution_count": 22,
     "metadata": {},
     "output_type": "execute_result"
    }
   ],
   "source": [
    "len(vec_res[\"hits\"][\"hits\"])"
   ]
  },
  {
   "cell_type": "code",
   "execution_count": 23,
   "metadata": {},
   "outputs": [
    {
     "name": "stdout",
     "output_type": "stream",
     "text": [
      "============= test_cantire-2021-10 ==============\n",
      "Dear Annie,\n",
      "\n",
      "Herewith the PO forecast for your reference, to ensure Feb shipment PO \n",
      "in correct price, pls kindly release RFX asap.\n",
      "\n",
      "Thank you~\n",
      "\n",
      "Best regards,\n",
      "Cherry Chow\n",
      "Tiffany Materials, Ltd.\n",
      "Unit A, 11/F, YHC Tower,\n",
      "No.1 Sheung Yuet Road,\n",
      "Kowloon Bay, Kowloon,  Hong Kong\n",
      "Tel.852-2722 2617\n",
      "Fax:852-2721 9692\n",
      "Website: www.tiffanymaterials.com\n",
      "************************************************************\n",
      "\n",
      "On 30/9/2021 9:52, Cherry Chow wrote:\n",
      "> Dear Annie,\n",
      ">\n",
      "> Double checked with our top management, it is a MUST to ask for price \n",
      "> increase for the PO which placed after 1OCT2021, pls kindly release \n",
      "> RFX in which allow us to update the PO price.\n",
      ">\n",
      "> thanks\n",
      ">\n",
      "> Best regards,\n",
      "> Cherry Chow\n",
      "> Tiffany Materials, Ltd.\n",
      "> Unit A, 11/F, YHC Tower,\n",
      "> No.1 Sheung Yuet Road,\n",
      "> Kowloon Bay, Kowloon,  Hong Kong\n",
      "> Tel.852-2722 2617\n",
      "> Fax:852-2721 9692\n",
      "> Website:www.tiffanymaterials.com\n",
      "> ************************************************************\n",
      "> On 29/9/2021 14:16, Cherry Chow wrote:\n",
      ">> Dear Annie,\n",
      ">>\n",
      ">> Pls kindly find attached price list for your reference.\n",
      ">>\n",
      ">> Here below is the steel cost for your reference.\n",
      ">>\n",
      ">> JAN 2021\n",
      ">> Carbon steel USD1100\n",
      ">> Aluminized steel USD1450\n",
      ">>\n",
      ">> MAY 2021 (ask for price increase on OCT)\n",
      ">> Carbon steel USD1300\n",
      ">> Aluminized steel USD1700\n",
      ">>\n",
      ">> Thanks\n",
      ">>\n",
      ">> Best regards,\n",
      ">> Cherry Chow\n",
      ">> Tiffany Materials, Ltd.\n",
      ">> Unit A, 11/F, YHC Tower,\n",
      ">> No.1 Sheung Yuet Road,\n",
      ">> Kowloon Bay, Kowloon,  Hong Kong\n",
      ">> Tel.852-2722 2617\n",
      ">> Fax:852-2721 9692\n",
      ">> Website:www.tiffanymaterials.com\n",
      ">> ************************************************************\n",
      ">> On 29/9/2021 13:44, Annie Leung wrote:\n",
      ">>>\n",
      ">>> Hi Cherry,\n",
      ">>>\n",
      ">>> Please send me the new costs of your ask.  Advise the actual new \n",
      ">>> cost per SKU (with old and current cost as comparison.  Also provide \n",
      ">>> some more info, e.g. quotes from material supplier this month vs. \n",
      ">>> last month, etc.\n",
      ">>>\n",
      ">>> Thank you.\n",
      ">>>\n",
      ">>> Best Regards,\n",
      ">>>\n",
      ">>> Annie Leung\n",
      ">>>\n",
      ">>> ------------------------------------------------------------------------\n",
      ">>>\n",
      ">>> *Annie Leung*  |  Senior Merchandiser  | *CTC Triangle (Hong Kong) \n",
      ">>> Limited*|\n",
      ">>>\n",
      ">>> Direct Line: 852.2247.8507 |  T:  852.2735.6144  | China mobile: \n",
      ">>> 86-14714308979\n",
      ">>>\n",
      ">>> *\n",
      "============= test_cantire-2021-10 ==============\n",
      "Warning: The sender of the email is outside your Organization. Please ensure authenticity of the sender before replying or sharing any sensitive information.\n",
      "Hey Cynthia,\n",
      "\n",
      "The cost in our system indicates that this sku should be $4.54. I just did a quick scan of recent RFQs and I'm not seeing this sku in any recent cost changes, can you please confirm when we made this update?\n",
      "\n",
      "Thanks,\n",
      "\n",
      "\n",
      "============= test_cantire-2021-10 ==============\n",
      "Warning: The sender of the email is outside your Organization. Please ensure authenticity of the sender before replying or sharing any sensitive information.\n",
      "Hi all,\n",
      "\n",
      "Please find below the changes required to be made on pages 6 / 7 of deal 1149 Gift Inspirations for 2021.\n",
      "\n",
      "Page 6 / Slot 1\n",
      "\n",
      "  *   0509282              ULT PRNCES MUSIC VAN is being removed from the guide due to supply constraints and there was no replacement provided by the Merch team. It will need to be removed from the creative completely prior to print as it's a listed item displayed.\n",
      "\n",
      "[cid:image001.jpg@01D7CC1E.C9F8A600]\n",
      "\n",
      "\n",
      "Page 6 / Slot 4\n",
      "\n",
      "  *   0509266              DPR WEDDING THM is being removed from the guide due to supply constraints and there was no replacement provided by the Merch team. It will need to be removed from the creative completely prior to print as it's a show SKU.\n",
      "\n",
      "[cid:image002.jpg@01D7CC1E.C9F8A600]\n",
      "\n",
      "\n",
      "Page 6 / Slot 5\n",
      "\n",
      "  *   0508401              LOL TENTPOLE SUPER S is being removed from the guide due to supply constraints and there was no replacement provided by the Merch team. As it's currently listed on the page within an X-series, and the pricing of this SKU is on the higher end of the range, pricing will be required to be updated. MPS will submit new pricing for this X-series through via email.\n",
      "\n",
      "[cid:image003.jpg@01D7CC1E.C9F8A600]\n",
      "\n",
      "\n",
      "Page 7 / Slot 3\n",
      "\n",
      "  *   0508458              MPL FEAT CHARACTER-F is being removed from the guide due to supply constraints and there was no replacement provided by the Merch team. It will need to be removed from the creative completely prior to print as it's a show SKU.\n",
      "  *\n",
      "[cid:image004.jpg@01D7CC1E.C9F8A600]\n",
      "\n",
      "Sincerely,\n",
      "Kyle\n",
      "\n",
      "\n",
      "============= test_cantire-2021-10 ==============\n",
      "\n",
      "\n",
      "\n",
      "\n",
      "\n",
      "\n",
      "Warning: The sender of the email is outside your Organization. Please ensure authenticity of the sender before replying or sharing any sensitive information.\n",
      "\n",
      "\n",
      "Hi Lisa,\n",
      " \n",
      "For the below changes, can you please make sure your MPS is submitting the most up to date pricing to the below email address for page 12 / slot 1 & 2 – list SKUs within the 1149 Gift Inspirations Guide. After the SKU pull, it appears that\n",
      " the higher end of the range pricing is being effected.\n",
      " \n",
      "CtcPriceChange ctcpricechange@tc.tc\n",
      " \n",
      "Page 12 / Slot 2\n",
      "\n",
      "\n",
      "0844063              FOLDNSTOR TBL TENNIS is being\n",
      "removed from the guide due to supply constraints and there was no replacement provided by the Merch team. As it’s currently listed on the page within an X-series, and the pricing of this SKU is on the higher end of the range, pricing will be required\n",
      " to be updated. MPS will submit new pricing for this X-series through via email.   \n",
      "\n",
      " \n",
      "\n",
      " \n",
      "Sincerely,\n",
      "Kyle\n",
      " \n",
      "\n",
      "\n",
      "\n",
      "\n",
      "\n",
      "\n",
      "\n",
      " \n",
      "\n",
      "\n",
      "\n",
      " \n",
      "Kyle Parker\n",
      "Consultant, Customer Promotions, Inspirational Events\n",
      "\n",
      "Canadian Tire Corporation\n",
      "2180 Yonge Street\n",
      "Toronto, ON\n",
      "T   416-480-8432\n",
      "kyle.parker@cantire.com\n",
      " \n",
      "\n",
      "\n",
      "\n",
      "\n",
      " \n",
      " \n",
      "\n",
      "\n",
      "This message, including any attachments, is privileged and may contain confidential information intended only for the person(s) named above. If you are not the intended recipient or have received this message in error, please notify the sender immediately\n",
      " by reply email and permanently delete the original transmission from the sender, including any attachments, without making a copy. Thank you.\n",
      "\n",
      "\n",
      "Ce message, y compris toutes ses pièces jointes, est confidentiel et peut contenir des renseignements destinés uniquement aux personnes dont le nom est indiqué ci-dessus. Si vous n'êtes pas le destinataire prévu ou si vous avez reçu ce message par erreur, veuillez\n",
      " en aviser l'expéditeur immédiatement, en lui répondant par courriel. Veuillez aussi supprimer définitivement le message original de l'expéditeur, y compris toute pièce jointe, sans faire de copie. Merci.\n",
      "\n",
      "\n",
      "\n",
      "\n",
      "\n",
      "============= test_cantire-2021-10 ==============\n",
      "Hello,\n",
      "Can you please confirm the invoice cost per SKU.\n",
      "\n",
      "Thanks,\n",
      "\n",
      "============= test_cantire-2021-10 ==============\n",
      "Hello,\n",
      "Can you please confirm the invoice cost per SKU.\n",
      "\n",
      "Thanks,\n",
      "\n",
      "============= test_cantire-2021-10 ==============\n",
      "Hi Jason,\n",
      "\n",
      "Since there is a price change for 0401927 with Effective Date of October 18th, I have updated REG price for this SKU. Please see attached updated template.\n",
      "\n",
      "Thank you,\n",
      "\n",
      "\n",
      "============= test_cantire-2021-10 ==============\n",
      "\n",
      "\n",
      "\n",
      "\n",
      "\n",
      "\n",
      "Warning: The sender of the email is outside your Organization. Please ensure authenticity of the sender before replying or sharing any sensitive information.\n",
      "\n",
      "\n",
      "Hi, \n",
      " \n",
      "I didn’t realize the bleach cost increase RFQ was opened. I didn’t see the SKU list in the folder I keep everything in but it must have been in emails between me and you and I sent it to Graham to open.\n",
      "\n",
      " \n",
      "The items that are in the RFQ were deemed running change so I included them in the RFQ for the laundry line review. If you quoted both RFQs at the new pricing then that is fine. If there is nothing changing then I’ll leave the line review\n",
      " RFQ and there will be no Lavo changes on Deal 0828-2021 except for adding the PL SKU to the review to finally introduce it. The cost will already have been changed on the PL SKU before this review is awarded. So all is good.\n",
      "\n",
      " \n",
      "We’ll land the bleach cost increase RFQ and start on the analysis. Did we get the market shop piece from you though?\n",
      " \n",
      "Thank you, \n",
      " \n",
      "Andrew\n",
      " \n",
      "\n",
      "\n",
      "\n",
      "============= test_cantire-2021-10 ==============\n",
      "Hi Graham,\n",
      "\n",
      "All the items below are not heat sensitive. Some of the SKUs have already been updated by the vendor. I have no more vendor to unclick the heat sensitivity in Data Vault.\n",
      "\n",
      "The mask vendor haven't got back to me on the measurements. I'll follow up with them again.\n",
      "\n",
      "Regards,\n",
      "\n",
      "\n",
      "\n",
      "============= test_cantire-2021-10 ==============\n",
      "Hi Jessica,\n",
      "\n",
      "Sorry for late reply.\n",
      "\n",
      "Compared with the price of orders in 2021, the new quotation is indeed increasing. But as you know the price of raw materials in 2021 has increased a lot compared to 2020 as follows:\n",
      "PVC increased 20%\n",
      "Metal/Iron wire increased 70%\n",
      "Corrugated paper  increased 20%\n",
      "Light string increased 35%\n",
      "Label cost increased 8%\n",
      "Exchange rate:  change from 6.5 to 6.3\n",
      "VAT duty rate: we had a tax rebate for exports before, but export duties may be levied starting next year.\n",
      "\n",
      "We also want to reduce the quoted prices to support CTC, but in 2021 some items is unprofitable due to the increase in material prices, the unit price will have to increase in 2022 to maintain the normal operation of the factory. Moreover, the raw material suppliers have successively informed that the price of raw materials for next year may be higher and hope we can confirm the order as soon as possible. It's really difficult to improve the costing on the existing SKUs for 2022.\n",
      "\n",
      "Thanks so much for your considerable understanding.\n",
      "\n",
      "2021-10-07 \n",
      "\n",
      "\n",
      "Carol Wu （+86 17711666855）\n",
      "惠州市宝兆来五金制品有限公司\n",
      "广东省惠州市惠阳区新圩镇东风村\n",
      "\n",
      "\n",
      "\n",
      "\n",
      "发件人：Jessica Lau <JESSICA.LAU@cantire.com>\n",
      "发送时间：2021-10-06 09:49\n",
      "主题：RE: CTC - 2022 Tree program (existing SKUs) - BZL\n",
      "收件人：\"baozhaolai_sales\"<baozhaolai_sales@163.com>\n",
      "抄送：\n",
      "\n",
      "Hi Carol,\n",
      " \n",
      "Please provide an update on this.\n",
      " \n",
      "Thank you.\n",
      " \n",
      "Best regards,\n",
      "Jessica\n",
      "\n",
      "\n",
      "\n",
      "Jessica Lau  |  Merchandiser  |   CTC Triangle (Hong Kong) Limited  |  Direct Line: 852.2247.8504  |  T:  852.2735.6144  |  M:  852.6701.5991 / 86.147.1431.7356\n",
      " \n",
      "Address: Suite 513, 5/F, Chinachem Golden Plaza, 77 Mody Road, Tsimshatsui East, Kowloon, HK \n",
      "香港尖沙咀東部麼地道77號華懋廣場513室\n",
      "Confidentiality:  This email message (including attachments, if any) is confidential.  If you are not the intended recipient, please notify the sender immediately & delete this message.\n",
      " \n",
      "\n"
     ]
    }
   ],
   "source": [
    "for vectored_doc in vec_res['hits']['hits'][:10]:\n",
    "    print('=============', vectored_doc['_index'], '==============')\n",
    "    print(clean_mail(vectored_doc))"
   ]
  },
  {
   "cell_type": "code",
   "execution_count": null,
   "metadata": {},
   "outputs": [],
   "source": []
  },
  {
   "cell_type": "code",
   "execution_count": null,
   "metadata": {},
   "outputs": [],
   "source": []
  },
  {
   "cell_type": "code",
   "execution_count": null,
   "metadata": {},
   "outputs": [],
   "source": []
  },
  {
   "cell_type": "code",
   "execution_count": null,
   "metadata": {},
   "outputs": [],
   "source": []
  },
  {
   "cell_type": "code",
   "execution_count": null,
   "metadata": {},
   "outputs": [],
   "source": []
  },
  {
   "cell_type": "code",
   "execution_count": null,
   "metadata": {},
   "outputs": [],
   "source": []
  },
  {
   "cell_type": "code",
   "execution_count": null,
   "metadata": {},
   "outputs": [],
   "source": []
  },
  {
   "cell_type": "code",
   "execution_count": null,
   "metadata": {},
   "outputs": [],
   "source": []
  },
  {
   "cell_type": "code",
   "execution_count": null,
   "metadata": {},
   "outputs": [],
   "source": []
  },
  {
   "cell_type": "code",
   "execution_count": null,
   "metadata": {},
   "outputs": [],
   "source": []
  },
  {
   "cell_type": "code",
   "execution_count": 56,
   "metadata": {
    "scrolled": true
   },
   "outputs": [],
   "source": [
    "from flask import Flask"
   ]
  },
  {
   "cell_type": "code",
   "execution_count": 57,
   "metadata": {
    "scrolled": true
   },
   "outputs": [
    {
     "ename": "NameError",
     "evalue": "name 'request' is not defined",
     "output_type": "error",
     "traceback": [
      "\u001b[0;31m---------------------------------------------------------------------------\u001b[0m",
      "\u001b[0;31mNameError\u001b[0m                                 Traceback (most recent call last)",
      "\u001b[0;32m<ipython-input-57-72e7694e3055>\u001b[0m in \u001b[0;36m<module>\u001b[0;34m\u001b[0m\n\u001b[1;32m     31\u001b[0m     \u001b[0;32mreturn\u001b[0m \u001b[0ms_body\u001b[0m\u001b[0;34m\u001b[0m\u001b[0;34m\u001b[0m\u001b[0m\n\u001b[1;32m     32\u001b[0m \u001b[0;34m\u001b[0m\u001b[0m\n\u001b[0;32m---> 33\u001b[0;31m \u001b[0ms_body\u001b[0m \u001b[0;34m=\u001b[0m \u001b[0msearch_body\u001b[0m\u001b[0;34m(\u001b[0m\u001b[0membed\u001b[0m\u001b[0;34m)\u001b[0m\u001b[0;34m\u001b[0m\u001b[0;34m\u001b[0m\u001b[0m\n\u001b[0m\u001b[1;32m     34\u001b[0m \u001b[0;34m\u001b[0m\u001b[0m\n\u001b[1;32m     35\u001b[0m \u001b[0;32mdef\u001b[0m \u001b[0mget_vector_documents\u001b[0m\u001b[0;34m(\u001b[0m\u001b[0mes_host\u001b[0m\u001b[0;34m=\u001b[0m \u001b[0mes_set\u001b[0m\u001b[0;34m,\u001b[0m \u001b[0mes_index\u001b[0m \u001b[0;34m=\u001b[0m \u001b[0mindex\u001b[0m\u001b[0;34m,\u001b[0m \u001b[0mbody\u001b[0m\u001b[0;34m=\u001b[0m \u001b[0ms_body\u001b[0m \u001b[0;34m)\u001b[0m\u001b[0;34m:\u001b[0m\u001b[0;34m\u001b[0m\u001b[0;34m\u001b[0m\u001b[0m\n",
      "\u001b[0;32m<ipython-input-57-72e7694e3055>\u001b[0m in \u001b[0;36msearch_body\u001b[0;34m(model)\u001b[0m\n\u001b[1;32m      5\u001b[0m \u001b[0;34m\u001b[0m\u001b[0m\n\u001b[1;32m      6\u001b[0m \u001b[0;32mdef\u001b[0m \u001b[0msearch_body\u001b[0m\u001b[0;34m(\u001b[0m\u001b[0mmodel\u001b[0m\u001b[0;34m=\u001b[0m\u001b[0membed\u001b[0m\u001b[0;34m)\u001b[0m\u001b[0;34m:\u001b[0m\u001b[0;34m\u001b[0m\u001b[0;34m\u001b[0m\u001b[0m\n\u001b[0;32m----> 7\u001b[0;31m     \u001b[0;32mif\u001b[0m \u001b[0mrequest\u001b[0m\u001b[0;34m.\u001b[0m\u001b[0mmethod\u001b[0m \u001b[0;34m==\u001b[0m \u001b[0;34m'POST'\u001b[0m\u001b[0;34m:\u001b[0m\u001b[0;34m\u001b[0m\u001b[0;34m\u001b[0m\u001b[0m\n\u001b[0m\u001b[1;32m      8\u001b[0m         \u001b[0mquery\u001b[0m \u001b[0;34m=\u001b[0m \u001b[0mrequest\u001b[0m\u001b[0;34m.\u001b[0m\u001b[0mform\u001b[0m\u001b[0;34m.\u001b[0m\u001b[0mto_dict\u001b[0m\u001b[0;34m(\u001b[0m\u001b[0;34m)\u001b[0m\u001b[0;34m\u001b[0m\u001b[0;34m\u001b[0m\u001b[0m\n\u001b[1;32m      9\u001b[0m         \u001b[0mquery\u001b[0m\u001b[0;34m=\u001b[0m\u001b[0mlist\u001b[0m\u001b[0;34m(\u001b[0m\u001b[0mto_predict_list\u001b[0m\u001b[0;34m.\u001b[0m\u001b[0mvalues\u001b[0m\u001b[0;34m(\u001b[0m\u001b[0;34m)\u001b[0m\u001b[0;34m)\u001b[0m\u001b[0;34m\u001b[0m\u001b[0;34m\u001b[0m\u001b[0m\n",
      "\u001b[0;31mNameError\u001b[0m: name 'request' is not defined"
     ]
    }
   ],
   "source": [
    "app = Flask(__name__)\n",
    "\n",
    "@app.route('/')\n",
    "\n",
    "\n",
    "def search_body(model=embed):\n",
    "    if request.method == 'POST':\n",
    "        query = request.form.to_dict()\n",
    "        query=list(to_predict_list.values())\n",
    "        query_vector = np.array(model(query))\n",
    "        s_body = {\n",
    "          \"query\": {\n",
    "            \"nested\": {\n",
    "              \"path\": \"doc_vectors\",\n",
    "              \"score_mode\": \"max\", \n",
    "              \"query\": {\n",
    "                \"function_score\": {\n",
    "                  \"script_score\": {\n",
    "                    \"script\": {\n",
    "                      \"source\": \"(1.0+cosineSimilarity(params.query_vector, 'doc_vectors.vector'))\",\n",
    "                      \"params\": {\"query_vector\": query_vector[0]}\n",
    "                    }\n",
    "                  }\n",
    "                }\n",
    "              }\n",
    "            }\n",
    "          }\n",
    "        }\n",
    "        \n",
    "\n",
    "    return s_body\n",
    "\n",
    "s_body = search_body(embed)\n",
    "\n",
    "def get_vector_documents(es_host= es_set, es_index = index, body= s_body ):\n",
    "        result_vectors = es_set.search(index=\"cantire-test-2020-06\", body=s_body, size = 100)\n",
    "        for vectored_doc in result_vectors['hits']['hits']:\n",
    "            print('=============', vectored_doc['_index'], '==============')\n",
    "            print(clean_mail(vectored_doc))\n"
   ]
  },
  {
   "cell_type": "code",
   "execution_count": null,
   "metadata": {
    "scrolled": true
   },
   "outputs": [],
   "source": [
    "if __name__ == \"__main__\":\n",
    "    app.run(debug=True)"
   ]
  },
  {
   "cell_type": "code",
   "execution_count": null,
   "metadata": {
    "scrolled": true
   },
   "outputs": [],
   "source": []
  },
  {
   "cell_type": "code",
   "execution_count": null,
   "metadata": {},
   "outputs": [],
   "source": []
  }
 ],
 "metadata": {
  "kernelspec": {
   "display_name": "Python 3",
   "language": "python",
   "name": "python3"
  },
  "language_info": {
   "codemirror_mode": {
    "name": "ipython",
    "version": 3
   },
   "file_extension": ".py",
   "mimetype": "text/x-python",
   "name": "python",
   "nbconvert_exporter": "python",
   "pygments_lexer": "ipython3",
   "version": "3.7.3"
  }
 },
 "nbformat": 4,
 "nbformat_minor": 4
}
